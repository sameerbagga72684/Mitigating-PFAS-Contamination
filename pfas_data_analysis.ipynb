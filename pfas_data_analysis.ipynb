{
 "cells": [
  {
   "metadata": {},
   "cell_type": "markdown",
   "source": [
    "# This is a sample Jupyter Notebook\n",
    "\n",
    "Below is an example of a code cell. \n",
    "Put your cursor into the cell and press Shift+Enter to execute it and select the next one, or click 'Run Cell' button.\n",
    "\n",
    "Press Double Shift to search everywhere for classes, files, tool windows, actions, and settings.\n",
    "\n",
    "To learn more about Jupyter Notebooks in PyCharm, see [help](https://www.jetbrains.com/help/pycharm/ipython-notebook-support.html).\n",
    "For an overview of PyCharm, go to Help -> Learn IDE features or refer to [our documentation](https://www.jetbrains.com/help/pycharm/getting-started.html)."
   ],
   "id": "8a77807f92f26ee"
  },
  {
   "metadata": {
    "ExecuteTime": {
     "end_time": "2025-02-17T01:26:40.218754Z",
     "start_time": "2025-02-17T01:26:30.663752Z"
    }
   },
   "cell_type": "code",
   "source": [
    "# Install required packages to reproduce Figures and Tables\n",
    "!pip install pandas openpyxl\n",
    "!pip install matplotlib\n",
    "!pip install scipy"
   ],
   "id": "fbc121e30a2defb3",
   "outputs": [
    {
     "name": "stdout",
     "output_type": "stream",
     "text": [
      "Requirement already satisfied: pandas in c:\\users\\sammy\\pycharmmiscproject\\.venv\\lib\\site-packages (2.2.3)\n",
      "Requirement already satisfied: openpyxl in c:\\users\\sammy\\pycharmmiscproject\\.venv\\lib\\site-packages (3.1.5)\n",
      "Requirement already satisfied: numpy>=1.26.0 in c:\\users\\sammy\\pycharmmiscproject\\.venv\\lib\\site-packages (from pandas) (2.2.2)\n",
      "Requirement already satisfied: python-dateutil>=2.8.2 in c:\\users\\sammy\\pycharmmiscproject\\.venv\\lib\\site-packages (from pandas) (2.9.0.post0)\n",
      "Requirement already satisfied: pytz>=2020.1 in c:\\users\\sammy\\pycharmmiscproject\\.venv\\lib\\site-packages (from pandas) (2024.2)\n",
      "Requirement already satisfied: tzdata>=2022.7 in c:\\users\\sammy\\pycharmmiscproject\\.venv\\lib\\site-packages (from pandas) (2025.1)\n",
      "Requirement already satisfied: et-xmlfile in c:\\users\\sammy\\pycharmmiscproject\\.venv\\lib\\site-packages (from openpyxl) (2.0.0)\n",
      "Requirement already satisfied: six>=1.5 in c:\\users\\sammy\\pycharmmiscproject\\.venv\\lib\\site-packages (from python-dateutil>=2.8.2->pandas) (1.17.0)\n"
     ]
    },
    {
     "name": "stderr",
     "output_type": "stream",
     "text": [
      "\n",
      "[notice] A new release of pip is available: 23.2.1 -> 25.0.1\n",
      "[notice] To update, run: python.exe -m pip install --upgrade pip\n"
     ]
    },
    {
     "name": "stdout",
     "output_type": "stream",
     "text": [
      "Requirement already satisfied: matplotlib in c:\\users\\sammy\\pycharmmiscproject\\.venv\\lib\\site-packages (3.10.0)\n",
      "Requirement already satisfied: contourpy>=1.0.1 in c:\\users\\sammy\\pycharmmiscproject\\.venv\\lib\\site-packages (from matplotlib) (1.3.1)\n",
      "Requirement already satisfied: cycler>=0.10 in c:\\users\\sammy\\pycharmmiscproject\\.venv\\lib\\site-packages (from matplotlib) (0.12.1)\n",
      "Requirement already satisfied: fonttools>=4.22.0 in c:\\users\\sammy\\pycharmmiscproject\\.venv\\lib\\site-packages (from matplotlib) (4.55.5)\n",
      "Requirement already satisfied: kiwisolver>=1.3.1 in c:\\users\\sammy\\pycharmmiscproject\\.venv\\lib\\site-packages (from matplotlib) (1.4.8)\n",
      "Requirement already satisfied: numpy>=1.23 in c:\\users\\sammy\\pycharmmiscproject\\.venv\\lib\\site-packages (from matplotlib) (2.2.2)\n",
      "Requirement already satisfied: packaging>=20.0 in c:\\users\\sammy\\pycharmmiscproject\\.venv\\lib\\site-packages (from matplotlib) (24.2)\n",
      "Requirement already satisfied: pillow>=8 in c:\\users\\sammy\\pycharmmiscproject\\.venv\\lib\\site-packages (from matplotlib) (11.1.0)\n",
      "Requirement already satisfied: pyparsing>=2.3.1 in c:\\users\\sammy\\pycharmmiscproject\\.venv\\lib\\site-packages (from matplotlib) (3.2.1)\n",
      "Requirement already satisfied: python-dateutil>=2.7 in c:\\users\\sammy\\pycharmmiscproject\\.venv\\lib\\site-packages (from matplotlib) (2.9.0.post0)\n",
      "Requirement already satisfied: six>=1.5 in c:\\users\\sammy\\pycharmmiscproject\\.venv\\lib\\site-packages (from python-dateutil>=2.7->matplotlib) (1.17.0)\n"
     ]
    },
    {
     "name": "stderr",
     "output_type": "stream",
     "text": [
      "\n",
      "[notice] A new release of pip is available: 23.2.1 -> 25.0.1\n",
      "[notice] To update, run: python.exe -m pip install --upgrade pip\n"
     ]
    },
    {
     "name": "stdout",
     "output_type": "stream",
     "text": [
      "Requirement already satisfied: scipy in c:\\users\\sammy\\pycharmmiscproject\\.venv\\lib\\site-packages (1.15.1)\n",
      "Requirement already satisfied: numpy<2.5,>=1.23.5 in c:\\users\\sammy\\pycharmmiscproject\\.venv\\lib\\site-packages (from scipy) (2.2.2)\n"
     ]
    },
    {
     "name": "stderr",
     "output_type": "stream",
     "text": [
      "\n",
      "[notice] A new release of pip is available: 23.2.1 -> 25.0.1\n",
      "[notice] To update, run: python.exe -m pip install --upgrade pip\n"
     ]
    }
   ],
   "execution_count": 40
  },
  {
   "metadata": {
    "ExecuteTime": {
     "end_time": "2025-02-17T01:26:40.316052Z",
     "start_time": "2025-02-17T01:26:40.243064Z"
    }
   },
   "cell_type": "code",
   "source": [
    "# Code for loading data from Excel file\n",
    "\n",
    "import pandas as pd\n",
    "\n",
    "# Replace 'your_file.xlsx' with the path to your Excel file\n",
    "file_path = '01_Data.xlsx'\n",
    "\n",
    "# Read the Excel file\n",
    "df = pd.read_excel(file_path)"
   ],
   "id": "508b6a613e72c84a",
   "outputs": [],
   "execution_count": 41
  },
  {
   "metadata": {
    "ExecuteTime": {
     "end_time": "2025-02-17T01:26:40.368077Z",
     "start_time": "2025-02-17T01:26:40.353506Z"
    }
   },
   "cell_type": "code",
   "source": [
    "# Sort data by contaminant and year\n",
    "\n",
    "# Assuming the DataFrame `df` has the following columns:\n",
    "# 'Contaminant', 'Concentration 2017', 'Concentration 2023'\n",
    "\n",
    "# Creating the lists for each category\n",
    "pfoa_2017 = df[df[\"Contaminant \"] == \"PFOA\"][\"Concentration 2017\"].tolist()\n",
    "pfos_2017 = df[df[\"Contaminant \"] == \"PFOS\"][\"Concentration 2017\"].tolist()\n",
    "pfoa_2023 = df[df[\"Contaminant \"] == \"PFOA\"][\"Concentration 2023\"].tolist()\n",
    "pfos_2023 = df[df[\"Contaminant \"] == \"PFOS\"][\"Concentration 2023\"].tolist()"
   ],
   "id": "c97c18fa699af685",
   "outputs": [],
   "execution_count": 42
  },
  {
   "metadata": {
    "ExecuteTime": {
     "end_time": "2025-02-17T01:26:40.750380Z",
     "start_time": "2025-02-17T01:26:40.455099Z"
    }
   },
   "cell_type": "code",
   "source": [
    "# Code for generating Figure 2\n",
    "\n",
    "import matplotlib.pyplot as plt\n",
    "import numpy as np\n",
    "\n",
    "# Calculate the means of the lists\n",
    "mean_pfoa_2017 = np.nanmean(pfoa_2017)\n",
    "mean_pfos_2017 = np.nanmean(pfos_2017)\n",
    "mean_pfoa_2023 = np.nanmean(pfoa_2023)\n",
    "mean_pfos_2023 = np.nanmean(pfos_2023)\n",
    "\n",
    "import numpy as np\n",
    "\n",
    "# Updated function to handle NaN values in the data\n",
    "def calculate_sem(data):\n",
    "    data = np.array(data)\n",
    "    # Remove NaN values\n",
    "    clean_data = data[~np.isnan(data)]\n",
    "    if len(clean_data) > 1:  # Ensure at least two valid data points\n",
    "        return 2 * (np.std(clean_data, ddof=1) / np.sqrt(len(clean_data)))  # SEM for 2 SDs\n",
    "    else:\n",
    "        return 0  # SEM is undefined for a single valid data point or no data\n",
    "\n",
    "# Calculate SEM for each list, handling NaN values\n",
    "sem_pfoa_2017 = calculate_sem(pfoa_2017)\n",
    "sem_pfos_2017 = calculate_sem(pfos_2017)\n",
    "sem_pfoa_2023 = calculate_sem(pfoa_2023)\n",
    "sem_pfos_2023 = calculate_sem(pfos_2023)\n",
    "\n",
    "# Group means and SEMs for plotting\n",
    "means = [\n",
    "    [mean_pfoa_2017, mean_pfoa_2023],  # PFOA\n",
    "    [mean_pfos_2017, mean_pfos_2023],  # PFOS\n",
    "]\n",
    "sems = [\n",
    "    [sem_pfoa_2017, sem_pfoa_2023],  # PFOA\n",
    "    [sem_pfos_2017, sem_pfos_2023],  # PFOS\n",
    "]\n",
    "\n",
    "# Setup for plotting\n",
    "x = np.arange(len(means))  # Position of the clusters (PFOA and PFOS)\n",
    "width = 0.35  # Width of each bar\n",
    "\n",
    "fig, ax = plt.subplots(figsize=(8, 6))\n",
    "\n",
    "# Plot 2017 bars\n",
    "bars_2017 = ax.bar(\n",
    "    x - width / 2,\n",
    "    [mean[0] for mean in means],  # Means for 2017\n",
    "    width,\n",
    "    yerr=[sem[0] for sem in sems],  # SEMs for 2017\n",
    "    label=\"2017\",\n",
    "    capsize=5,\n",
    "    alpha=0.7,\n",
    "    color=\"tab:red\",\n",
    ")\n",
    "\n",
    "# Plot 2023 bars\n",
    "bars_2023 = ax.bar(\n",
    "    x + width / 2,\n",
    "    [mean[1] for mean in means],  # Means for 2023\n",
    "    width,\n",
    "    yerr=[sem[1] for sem in sems],  # SEMs for 2023\n",
    "    label=\"2023\",\n",
    "    capsize=5,\n",
    "    alpha=0.7,\n",
    "    color=\"limegreen\",\n",
    "    hatch=\"//\",  # Add a fill pattern for 2023\n",
    ")\n",
    "\n",
    "# Add labels, title, and legend\n",
    "ax.set_xlabel(\"Contaminants\")\n",
    "ax.set_ylabel(\"Concentration (µg/L)\")\n",
    "ax.set_xticks(x)\n",
    "ax.set_xticklabels([\"PFOA\", \"PFOS\"])  # Labels for clusters\n",
    "ax.legend(title=\"Year\")\n",
    "ax.grid(axis=\"y\", linestyle=\"--\", alpha=0.7)\n",
    "\n",
    "plt.savefig(\"figure_2.pdf\", format=\"pdf\")\n",
    "\n",
    "# Show the plot\n",
    "plt.tight_layout()\n",
    "plt.show()"
   ],
   "id": "ed29b4d8afe388c8",
   "outputs": [
    {
     "data": {
      "text/plain": [
       "<Figure size 800x600 with 1 Axes>"
      ],
      "image/png": "[encoded data removed]"
     },
     "metadata": {},
     "output_type": "display_data"
    }
   ],
   "execution_count": 43
  },
  {
   "metadata": {
    "ExecuteTime": {
     "end_time": "2025-02-17T01:26:40.826617Z",
     "start_time": "2025-02-17T01:26:40.776372Z"
    }
   },
   "cell_type": "code",
   "source": [
    "# Code for Table 2 and statistical analyses\n",
    "\n",
    "import numpy as np\n",
    "import scipy.stats as stats\n",
    "\n",
    "# ---------------------------\n",
    "# pfoa Data\n",
    "# ---------------------------\n",
    "\n",
    "# Convert pfoa_2017 to a NumPy array\n",
    "pfoa_2017 = np.array(pfoa_2017)\n",
    "# Remove NaN values\n",
    "pfoa_2017_wo_nan = pfoa_2017[~np.isnan(pfoa_2017)]\n",
    "# Calculate total water sources, mean, standard deviation, and variance for pfoa_2017\n",
    "total_pfoa_2017 = len(pfoa_2017_wo_nan)\n",
    "mean_pfoa_2017 = np.mean(pfoa_2017_wo_nan)\n",
    "std_pfoa_2017 = np.nanstd(pfoa_2017)\n",
    "var_pfoa_2017 = np.nanvar(pfoa_2017)  # variance ignoring NaNs\n",
    "\n",
    "print(\"\\npfoa_2017:\")\n",
    "print(\"Total Water Sources Tested:\", total_pfoa_2017)\n",
    "print(\"Mean (µg/L):\", mean_pfoa_2017)\n",
    "print(\"Standard Deviation (µg/L):\", std_pfoa_2017)\n",
    "print(\"Variance ((µg/L)^2):\", var_pfoa_2017)\n",
    "\n",
    "# Convert pfoa_2023 to a NumPy array\n",
    "pfoa_2023 = np.array(pfoa_2023)\n",
    "# Remove NaN values\n",
    "pfoa_2023_wo_nan = pfoa_2023[~np.isnan(pfoa_2023)]\n",
    "# Calculate total water sources, mean, standard deviation, and variance for pfoa_2023\n",
    "total_pfoa_2023 = len(pfoa_2023_wo_nan)\n",
    "mean_pfoa_2023 = np.mean(pfoa_2023_wo_nan)\n",
    "std_pfoa_2023 = np.nanstd(pfoa_2023)\n",
    "var_pfoa_2023 = np.nanvar(pfoa_2023)  # variance ignoring NaNs\n",
    "\n",
    "print(\"\\npfoa_2023:\")\n",
    "print(\"Total Water Sources Tested:\", total_pfoa_2023)\n",
    "print(\"Mean (µg/L):\", mean_pfoa_2023)\n",
    "print(\"Standard Deviation (µg/L):\", std_pfoa_2023)\n",
    "print(\"Variance ((µg/L)^2):\", var_pfoa_2023)\n",
    "\n",
    "# Perform Levene's test for equal variances on pfoa datasets and print the result\n",
    "levene_result_pfoa = stats.levene(pfoa_2017_wo_nan, pfoa_2023_wo_nan)\n",
    "print(\"\\nLevene's test result for pfoa datasets:\")\n",
    "print(\"Statistic:\", levene_result_pfoa.statistic, \"P-value:\", levene_result_pfoa.pvalue)\n",
    "\n",
    "# ---------------------------\n",
    "# pfos Data\n",
    "# ---------------------------\n",
    "\n",
    "# Convert pfos_2017 to a NumPy array\n",
    "pfos_2017 = np.array(pfos_2017)\n",
    "# Remove NaN values\n",
    "pfos_2017_wo_nan = pfos_2017[~np.isnan(pfos_2017)]\n",
    "# Calculate total water sources, mean, standard deviation, and variance for pfos_2017\n",
    "total_pfos_2017 = len(pfos_2017_wo_nan)\n",
    "mean_pfos_2017 = np.mean(pfos_2017_wo_nan)\n",
    "std_pfos_2017 = np.nanstd(pfos_2017)\n",
    "var_pfos_2017 = np.nanvar(pfos_2017)\n",
    "\n",
    "print(\"\\npfos_2017:\")\n",
    "print(\"Total Water Sources Tested:\", total_pfos_2017)\n",
    "print(\"Mean (µg/L):\", mean_pfos_2017)\n",
    "print(\"Standard Deviation (µg/L):\", std_pfos_2017)\n",
    "print(\"Variance ((µg/L)^2):\", var_pfos_2017)\n",
    "\n",
    "# Convert pfos_2023 to a NumPy array\n",
    "pfos_2023 = np.array(pfos_2023)\n",
    "# Remove NaN values\n",
    "pfos_2023_wo_nan = pfos_2023[~np.isnan(pfos_2023)]\n",
    "# Calculate total water sources, mean, standard deviation, and variance for pfos_2023\n",
    "total_pfos_2023 = len(pfos_2023_wo_nan)\n",
    "mean_pfos_2023 = np.mean(pfos_2023_wo_nan)\n",
    "std_pfos_2023 = np.nanstd(pfos_2023)\n",
    "var_pfos_2023 = np.nanvar(pfos_2023)\n",
    "\n",
    "print(\"\\npfos_2023:\")\n",
    "print(\"Total Water Sources Tested:\", total_pfos_2023)\n",
    "print(\"Mean (µg/L):\", mean_pfos_2023)\n",
    "print(\"Standard Deviation (µg/L):\", std_pfos_2023)\n",
    "print(\"Variance ((µg/L)^2):\", var_pfos_2023)\n",
    "\n",
    "# Perform Levene's test for equal variances on pfos datasets and print the result\n",
    "levene_result_pfos = stats.levene(pfos_2017_wo_nan, pfos_2023_wo_nan)\n",
    "print(\"\\nLevene's test result for pfos datasets:\")\n",
    "print(\"Statistic:\", levene_result_pfos.statistic, \"P-value:\", levene_result_pfos.pvalue)\n",
    "\n",
    "# ---------------------------\n",
    "# T-Tests on pfoa Data\n",
    "# ---------------------------\n",
    "\n",
    "# Perform an unpaired t-test on the pfoa datasets assuming equal variances (standard t-test)\n",
    "t_stat_equal, p_value_equal = stats.ttest_ind(pfoa_2017_wo_nan, pfoa_2023_wo_nan, equal_var=True)\n",
    "print(\"\\nUnpaired t-test (assuming equal variances) on pfoa datasets:\")\n",
    "print(\"t-statistic:\", t_stat_equal)\n",
    "print(\"p-value:\", p_value_equal)\n",
    "\n",
    "# Perform an unpaired t-test on the pfoa datasets not assuming equal variances (Welch's t-test)\n",
    "t_stat_welch, p_value_welch = stats.ttest_ind(pfoa_2017_wo_nan, pfoa_2023_wo_nan, equal_var=False)\n",
    "print(\"\\nUnpaired t-test (Welch's t-test) on pfoa datasets:\")\n",
    "print(\"t-statistic:\", t_stat_welch)\n",
    "print(\"p-value:\", p_value_welch)\n",
    "\n",
    "# ---------------------------\n",
    "# T-Tests on pfos Data\n",
    "# ---------------------------\n",
    "\n",
    "# Perform an unpaired t-test on the pfos datasets assuming equal variances (standard t-test)\n",
    "t_stat_equal2, p_value_equal2 = stats.ttest_ind(pfos_2017_wo_nan, pfos_2023_wo_nan, equal_var=True)\n",
    "print(\"\\nRepeating unpaired t-test (assuming equal variances) on pfos datasets:\")\n",
    "print(\"t-statistic:\", t_stat_equal2)\n",
    "print(\"p-value:\", p_value_equal2)\n",
    "\n",
    "# Perform an unpaired t-test on the pfos datasets not assuming equal variances (Welch's t-test)\n",
    "t_stat_welch2, p_value_welch2 = stats.ttest_ind(pfos_2017_wo_nan, pfos_2023_wo_nan, equal_var=False)\n",
    "print(\"\\nRepeating unpaired t-test (Welch's t-test) on pfos datasets:\")\n",
    "print(\"t-statistic:\", t_stat_welch2)\n",
    "print(\"p-value:\", p_value_welch2)\n"
   ],
   "id": "58f2d5b66c549962",
   "outputs": [
    {
     "name": "stdout",
     "output_type": "stream",
     "text": [
      "\n",
      "pfoa_2017:\n",
      "Total Water Sources Tested: 46\n",
      "Mean (µg/L): 0.027708695652173918\n",
      "Standard Deviation (µg/L): 0.007292307623282893\n",
      "Variance ((µg/L)^2): 5.317775047258979e-05\n",
      "\n",
      "pfoa_2023:\n",
      "Total Water Sources Tested: 25\n",
      "Mean (µg/L): 0.008247999999999998\n",
      "Standard Deviation (µg/L): 0.004411087847685648\n",
      "Variance ((µg/L)^2): 1.9457696000000004e-05\n",
      "\n",
      "Levene's test result for pfoa datasets:\n",
      "Statistic: 3.3274773832277433 P-value: 0.07246141155574862\n",
      "\n",
      "pfos_2017:\n",
      "Total Water Sources Tested: 60\n",
      "Mean (µg/L): 0.056849999999999984\n",
      "Standard Deviation (µg/L): 0.0232475052424986\n",
      "Variance ((µg/L)^2): 0.0005404464999999999\n",
      "\n",
      "pfos_2023:\n",
      "Total Water Sources Tested: 33\n",
      "Mean (µg/L): 0.011633333333333334\n",
      "Standard Deviation (µg/L): 0.007766582129855963\n",
      "Variance ((µg/L)^2): 6.0319797979797986e-05\n",
      "\n",
      "Levene's test result for pfos datasets:\n",
      "Statistic: 3.013177068490532 P-value: 0.0859750112188032\n",
      "\n",
      "Unpaired t-test (assuming equal variances) on pfoa datasets:\n",
      "t-statistic: 12.013646139843136\n",
      "p-value: 1.4160435322094243e-18\n",
      "\n",
      "Unpaired t-test (Welch's t-test) on pfoa datasets:\n",
      "t-statistic: 13.7867848056698\n",
      "p-value: 2.292062843466315e-21\n",
      "\n",
      "Repeating unpaired t-test (assuming equal variances) on pfos datasets:\n",
      "t-statistic: 10.72807221571197\n",
      "p-value: 7.776110609077249e-18\n",
      "\n",
      "Repeating unpaired t-test (Welch's t-test) on pfos datasets:\n",
      "t-statistic: 13.6054728945837\n",
      "p-value: 1.8163089701064108e-22\n"
     ]
    }
   ],
   "execution_count": 44
  }
 ],
 "metadata": {
  "kernelspec": {
   "display_name": "Python 3",
   "language": "python",
   "name": "python3"
  },
  "language_info": {
   "codemirror_mode": {
    "name": "ipython",
    "version": 2
   },
   "file_extension": ".py",
   "mimetype": "text/x-python",
   "name": "python",
   "nbconvert_exporter": "python",
   "pygments_lexer": "ipython2",
   "version": "2.7.6"
  }
 },
 "nbformat": 4,
 "nbformat_minor": 5
}
